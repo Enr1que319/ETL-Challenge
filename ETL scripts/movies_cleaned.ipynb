{
 "cells": [
  {
   "cell_type": "code",
   "execution_count": 1,
   "metadata": {},
   "outputs": [],
   "source": [
    "import os\n",
    "import pandas as pd\n",
    "import ast\n",
    "from pandas.io.json import json_normalize\n",
    "import numpy as np"
   ]
  },
  {
   "cell_type": "code",
   "execution_count": 2,
   "metadata": {},
   "outputs": [],
   "source": [
    "input_path_mov1 = os.path.join('Resources','movies_metadata.csv')\n",
    "cleaned_path_mov1 = os.path.join('Resources','cleaned','movies_metadata__clean.csv')\n",
    "\n",
    "input_path_mov2 = os.path.join('Resources','AllMoviesDetailsCleaned.csv')\n",
    "cleaned_path_mov2 = os.path.join('Resources','cleaned','movies_metadata__clean.csv')"
   ]
  },
  {
   "cell_type": "code",
   "execution_count": 3,
   "metadata": {},
   "outputs": [],
   "source": [
    "movies_metadata_df = pd.read_csv(input_path_mov1)\n",
    "all_movies_df = pd.read_csv(input_path_mov2, sep= ';')"
   ]
  },
  {
   "cell_type": "code",
   "execution_count": 4,
   "metadata": {},
   "outputs": [],
   "source": [
    "new_all_movies = all_movies_df[['imdb_id','original_title','genres','original_language','popularity','production_companies','runtime','vote_average','vote_count','release_date','revenue']]\n",
    "\n",
    "new_metadata = movies_metadata_df[['imdb_id','original_title','original_language','popularity','runtime','vote_average','vote_count','release_date','revenue']]"
   ]
  },
  {
   "cell_type": "code",
   "execution_count": 5,
   "metadata": {},
   "outputs": [],
   "source": [
    "#Creating the function to extract the columns that have json format\n",
    "def get_unique_value(df_column,empty_list,name_str):\n",
    "    num = 0\n",
    "    for item in df_column:\n",
    "\n",
    "        try:\n",
    "            item_code = ast.literal_eval(item)\n",
    "            json_item = json_normalize(item_code)\n",
    "\n",
    "            try:\n",
    "                empty_list.append(json_item[name_str][0])\n",
    "\n",
    "            except:\n",
    "\n",
    "                empty_list.append(np.nan)\n",
    "\n",
    "        except:\n",
    "            empty_list.append(np.nan)\n"
   ]
  },
  {
   "cell_type": "code",
   "execution_count": 6,
   "metadata": {},
   "outputs": [],
   "source": [
    "#Get the first value from genders\n",
    "df_column = movies_metadata_df['genres']\n",
    "values = []\n",
    "\n",
    "get_unique_value(df_column,values,'name')\n",
    "\n",
    "#Insert the new column to new_metadata dataframe\n",
    "new_metadata['genres'] = values"
   ]
  },
  {
   "cell_type": "code",
   "execution_count": 7,
   "metadata": {
    "tags": [
     "outputPrepend",
     "outputPrepend",
     "outputPrepend",
     "outputPrepend",
     "outputPrepend",
     "outputPrepend",
     "outputPrepend",
     "outputPrepend",
     "outputPrepend",
     "outputPrepend",
     "outputPrepend",
     "outputPrepend",
     "outputPrepend",
     "outputPrepend",
     "outputPrepend",
     "outputPrepend",
     "outputPrepend",
     "outputPrepend",
     "outputPrepend",
     "outputPrepend",
     "outputPrepend",
     "outputPrepend",
     "outputPrepend",
     "outputPrepend",
     "outputPrepend",
     "outputPrepend",
     "outputPrepend",
     "outputPrepend",
     "outputPrepend",
     "outputPrepend",
     "outputPrepend",
     "outputPrepend",
     "outputPrepend",
     "outputPrepend",
     "outputPrepend",
     "outputPrepend",
     "outputPrepend",
     "outputPrepend",
     "outputPrepend",
     "outputPrepend",
     "outputPrepend",
     "outputPrepend",
     "outputPrepend",
     "outputPrepend",
     "outputPrepend",
     "outputPrepend",
     "outputPrepend",
     "outputPrepend",
     "outputPrepend",
     "outputPrepend",
     "outputPrepend",
     "outputPrepend",
     "outputPrepend",
     "outputPrepend",
     "outputPrepend",
     "outputPrepend",
     "outputPrepend",
     "outputPrepend",
     "outputPrepend",
     "outputPrepend",
     "outputPrepend",
     "outputPrepend",
     "outputPrepend",
     "outputPrepend",
     "outputPrepend",
     "outputPrepend",
     "outputPrepend",
     "outputPrepend",
     "outputPrepend",
     "outputPrepend",
     "outputPrepend",
     "outputPrepend",
     "outputPrepend",
     "outputPrepend",
     "outputPrepend",
     "outputPrepend",
     "outputPrepend",
     "outputPrepend",
     "outputPrepend",
     "outputPrepend",
     "outputPrepend",
     "outputPrepend",
     "outputPrepend",
     "outputPrepend",
     "outputPrepend",
     "outputPrepend",
     "outputPrepend",
     "outputPrepend",
     "outputPrepend",
     "outputPrepend",
     "outputPrepend",
     "outputPrepend",
     "outputPrepend",
     "outputPrepend",
     "outputPrepend",
     "outputPrepend",
     "outputPrepend",
     "outputPrepend",
     "outputPrepend",
     "outputPrepend"
    ]
   },
   "outputs": [],
   "source": [
    "#Get the first value from genders\n",
    "df_column = movies_metadata_df['production_companies']\n",
    "values = []\n",
    "\n",
    "get_unique_value(df_column,values,'name')\n",
    "\n",
    "#Insert the new column to new_metadata dataframe\n",
    "new_metadata['production_companies'] = values"
   ]
  },
  {
   "cell_type": "code",
   "execution_count": 8,
   "metadata": {},
   "outputs": [],
   "source": [
    "##Split the Genders in separated columns from new_metadata\n",
    "new_all_movies[['genres','Genre 2','Genre 3','Genre 4','Genre 5','Genre 6','Genre 7','Genre 8','Genre 9','Genre 10','Genre 11']] = new_all_movies['genres'].str.split('|',expand=True)\n",
    "\n",
    "#Remove all the genres except one\n",
    "new_all_movies_df = new_all_movies[['imdb_id','original_title','genres','original_language','popularity','production_companies','runtime','vote_average','vote_count','release_date','revenue']]"
   ]
  },
  {
   "cell_type": "code",
   "execution_count": null,
   "metadata": {},
   "outputs": [],
   "source": []
  },
  {
   "cell_type": "code",
   "execution_count": 9,
   "metadata": {},
   "outputs": [
    {
     "output_type": "execute_result",
     "data": {
      "text/plain": "          imdb_id                                original_title       genres  \\\n0       tt0094675                                         Ariel        Drama   \n1       tt0092149                          Varjoja paratiisissa        Drama   \n2       tt0113101                                    Four Rooms        Crime   \n3       tt0107286                                Judgment Night       Action   \n4       tt0825671              Life in Loops (A Megacities RMX)  Documentary   \n...           ...                                           ...          ...   \n329039  tt5430190                           The Day Hitler Died  Documentary   \n329040        NaN  Mobb Deep - Life of the Infamous: The Videos          NaN   \n329041        NaN                                        #idiot        Drama   \n329042  tt6391664                              Conspiracy P.I.E        Drama   \n329043  tt6413160                                        Chance        Drama   \n\n       original_language popularity         production_companies  runtime  \\\n0                     fi   0.823904  Villealfa Filmproduction Oy     69.0   \n1                     fi    0.47445  Villealfa Filmproduction Oy     76.0   \n2                     en      1.698                Miramax Films     98.0   \n3                     en    1.32287           Universal Pictures    110.0   \n4                     en   0.054716                      inLoops     80.0   \n...                  ...        ...                          ...      ...   \n329039                en     0.0045              History Channel     46.0   \n329040                de    0.00045     Sony Music Entertainmant      NaN   \n329041                en    1.37217                         none     11.0   \n329042                en     0.0096                         none     12.0   \n329043                en     0.0759                         none     90.0   \n\n        vote_average  vote_count release_date   revenue  \n0                7.1          40   21/10/1988         0  \n1                7.0          32   16/10/1986         0  \n2                6.5         485   25/12/1995   4300000  \n3                6.5          69   15/10/1993  12136938  \n4                6.4           4   01/01/2006         0  \n...              ...         ...          ...       ...  \n329039           7.0           1   21/01/2016         0  \n329040           9.0           1   24/11/2006         0  \n329041           0.0           0   02/08/2017         0  \n329042           0.0           0   10/11/2016         0  \n329043           0.0           0   30/06/2017         0  \n\n[329044 rows x 11 columns]",
      "text/html": "<div>\n<style scoped>\n    .dataframe tbody tr th:only-of-type {\n        vertical-align: middle;\n    }\n\n    .dataframe tbody tr th {\n        vertical-align: top;\n    }\n\n    .dataframe thead th {\n        text-align: right;\n    }\n</style>\n<table border=\"1\" class=\"dataframe\">\n  <thead>\n    <tr style=\"text-align: right;\">\n      <th></th>\n      <th>imdb_id</th>\n      <th>original_title</th>\n      <th>genres</th>\n      <th>original_language</th>\n      <th>popularity</th>\n      <th>production_companies</th>\n      <th>runtime</th>\n      <th>vote_average</th>\n      <th>vote_count</th>\n      <th>release_date</th>\n      <th>revenue</th>\n    </tr>\n  </thead>\n  <tbody>\n    <tr>\n      <th>0</th>\n      <td>tt0094675</td>\n      <td>Ariel</td>\n      <td>Drama</td>\n      <td>fi</td>\n      <td>0.823904</td>\n      <td>Villealfa Filmproduction Oy</td>\n      <td>69.0</td>\n      <td>7.1</td>\n      <td>40</td>\n      <td>21/10/1988</td>\n      <td>0</td>\n    </tr>\n    <tr>\n      <th>1</th>\n      <td>tt0092149</td>\n      <td>Varjoja paratiisissa</td>\n      <td>Drama</td>\n      <td>fi</td>\n      <td>0.47445</td>\n      <td>Villealfa Filmproduction Oy</td>\n      <td>76.0</td>\n      <td>7.0</td>\n      <td>32</td>\n      <td>16/10/1986</td>\n      <td>0</td>\n    </tr>\n    <tr>\n      <th>2</th>\n      <td>tt0113101</td>\n      <td>Four Rooms</td>\n      <td>Crime</td>\n      <td>en</td>\n      <td>1.698</td>\n      <td>Miramax Films</td>\n      <td>98.0</td>\n      <td>6.5</td>\n      <td>485</td>\n      <td>25/12/1995</td>\n      <td>4300000</td>\n    </tr>\n    <tr>\n      <th>3</th>\n      <td>tt0107286</td>\n      <td>Judgment Night</td>\n      <td>Action</td>\n      <td>en</td>\n      <td>1.32287</td>\n      <td>Universal Pictures</td>\n      <td>110.0</td>\n      <td>6.5</td>\n      <td>69</td>\n      <td>15/10/1993</td>\n      <td>12136938</td>\n    </tr>\n    <tr>\n      <th>4</th>\n      <td>tt0825671</td>\n      <td>Life in Loops (A Megacities RMX)</td>\n      <td>Documentary</td>\n      <td>en</td>\n      <td>0.054716</td>\n      <td>inLoops</td>\n      <td>80.0</td>\n      <td>6.4</td>\n      <td>4</td>\n      <td>01/01/2006</td>\n      <td>0</td>\n    </tr>\n    <tr>\n      <th>...</th>\n      <td>...</td>\n      <td>...</td>\n      <td>...</td>\n      <td>...</td>\n      <td>...</td>\n      <td>...</td>\n      <td>...</td>\n      <td>...</td>\n      <td>...</td>\n      <td>...</td>\n      <td>...</td>\n    </tr>\n    <tr>\n      <th>329039</th>\n      <td>tt5430190</td>\n      <td>The Day Hitler Died</td>\n      <td>Documentary</td>\n      <td>en</td>\n      <td>0.0045</td>\n      <td>History Channel</td>\n      <td>46.0</td>\n      <td>7.0</td>\n      <td>1</td>\n      <td>21/01/2016</td>\n      <td>0</td>\n    </tr>\n    <tr>\n      <th>329040</th>\n      <td>NaN</td>\n      <td>Mobb Deep - Life of the Infamous: The Videos</td>\n      <td>NaN</td>\n      <td>de</td>\n      <td>0.00045</td>\n      <td>Sony Music Entertainmant</td>\n      <td>NaN</td>\n      <td>9.0</td>\n      <td>1</td>\n      <td>24/11/2006</td>\n      <td>0</td>\n    </tr>\n    <tr>\n      <th>329041</th>\n      <td>NaN</td>\n      <td>#idiot</td>\n      <td>Drama</td>\n      <td>en</td>\n      <td>1.37217</td>\n      <td>none</td>\n      <td>11.0</td>\n      <td>0.0</td>\n      <td>0</td>\n      <td>02/08/2017</td>\n      <td>0</td>\n    </tr>\n    <tr>\n      <th>329042</th>\n      <td>tt6391664</td>\n      <td>Conspiracy P.I.E</td>\n      <td>Drama</td>\n      <td>en</td>\n      <td>0.0096</td>\n      <td>none</td>\n      <td>12.0</td>\n      <td>0.0</td>\n      <td>0</td>\n      <td>10/11/2016</td>\n      <td>0</td>\n    </tr>\n    <tr>\n      <th>329043</th>\n      <td>tt6413160</td>\n      <td>Chance</td>\n      <td>Drama</td>\n      <td>en</td>\n      <td>0.0759</td>\n      <td>none</td>\n      <td>90.0</td>\n      <td>0.0</td>\n      <td>0</td>\n      <td>30/06/2017</td>\n      <td>0</td>\n    </tr>\n  </tbody>\n</table>\n<p>329044 rows × 11 columns</p>\n</div>"
     },
     "metadata": {},
     "execution_count": 9
    }
   ],
   "source": [
    "new_all_movies_df.head()"
   ]
  },
  {
   "cell_type": "code",
   "execution_count": 10,
   "metadata": {},
   "outputs": [
    {
     "output_type": "execute_result",
     "data": {
      "text/plain": "     imdb_id               original_title original_language popularity  \\\n0  tt0114709                    Toy Story                en    21.9469   \n1  tt0113497                      Jumanji                en    17.0155   \n2  tt0113228             Grumpier Old Men                en    11.7129   \n3  tt0114885            Waiting to Exhale                en    3.85949   \n4  tt0113041  Father of the Bride Part II                en    8.38752   \n\n   runtime  vote_average  vote_count release_date      revenue     genres  \\\n0     81.0           7.7      5415.0   1995-10-30  373554033.0  Animation   \n1    104.0           6.9      2413.0   1995-12-15  262797249.0  Adventure   \n2    101.0           6.5        92.0   1995-12-22          0.0    Romance   \n3    127.0           6.1        34.0   1995-12-22   81452156.0     Comedy   \n4    106.0           5.7       173.0   1995-02-10   76578911.0     Comedy   \n\n                     production_companies  \n0                 Pixar Animation Studios  \n1                        TriStar Pictures  \n2                            Warner Bros.  \n3  Twentieth Century Fox Film Corporation  \n4                   Sandollar Productions  ",
      "text/html": "<div>\n<style scoped>\n    .dataframe tbody tr th:only-of-type {\n        vertical-align: middle;\n    }\n\n    .dataframe tbody tr th {\n        vertical-align: top;\n    }\n\n    .dataframe thead th {\n        text-align: right;\n    }\n</style>\n<table border=\"1\" class=\"dataframe\">\n  <thead>\n    <tr style=\"text-align: right;\">\n      <th></th>\n      <th>imdb_id</th>\n      <th>original_title</th>\n      <th>original_language</th>\n      <th>popularity</th>\n      <th>runtime</th>\n      <th>vote_average</th>\n      <th>vote_count</th>\n      <th>release_date</th>\n      <th>revenue</th>\n      <th>genres</th>\n      <th>production_companies</th>\n    </tr>\n  </thead>\n  <tbody>\n    <tr>\n      <th>0</th>\n      <td>tt0114709</td>\n      <td>Toy Story</td>\n      <td>en</td>\n      <td>21.9469</td>\n      <td>81.0</td>\n      <td>7.7</td>\n      <td>5415.0</td>\n      <td>1995-10-30</td>\n      <td>373554033.0</td>\n      <td>Animation</td>\n      <td>Pixar Animation Studios</td>\n    </tr>\n    <tr>\n      <th>1</th>\n      <td>tt0113497</td>\n      <td>Jumanji</td>\n      <td>en</td>\n      <td>17.0155</td>\n      <td>104.0</td>\n      <td>6.9</td>\n      <td>2413.0</td>\n      <td>1995-12-15</td>\n      <td>262797249.0</td>\n      <td>Adventure</td>\n      <td>TriStar Pictures</td>\n    </tr>\n    <tr>\n      <th>2</th>\n      <td>tt0113228</td>\n      <td>Grumpier Old Men</td>\n      <td>en</td>\n      <td>11.7129</td>\n      <td>101.0</td>\n      <td>6.5</td>\n      <td>92.0</td>\n      <td>1995-12-22</td>\n      <td>0.0</td>\n      <td>Romance</td>\n      <td>Warner Bros.</td>\n    </tr>\n    <tr>\n      <th>3</th>\n      <td>tt0114885</td>\n      <td>Waiting to Exhale</td>\n      <td>en</td>\n      <td>3.85949</td>\n      <td>127.0</td>\n      <td>6.1</td>\n      <td>34.0</td>\n      <td>1995-12-22</td>\n      <td>81452156.0</td>\n      <td>Comedy</td>\n      <td>Twentieth Century Fox Film Corporation</td>\n    </tr>\n    <tr>\n      <th>4</th>\n      <td>tt0113041</td>\n      <td>Father of the Bride Part II</td>\n      <td>en</td>\n      <td>8.38752</td>\n      <td>106.0</td>\n      <td>5.7</td>\n      <td>173.0</td>\n      <td>1995-02-10</td>\n      <td>76578911.0</td>\n      <td>Comedy</td>\n      <td>Sandollar Productions</td>\n    </tr>\n  </tbody>\n</table>\n</div>"
     },
     "metadata": {},
     "execution_count": 10
    }
   ],
   "source": [
    "new_metadata.head()"
   ]
  },
  {
   "cell_type": "code",
   "execution_count": 11,
   "metadata": {},
   "outputs": [],
   "source": [
    "new_metadata.to_csv(cleaned_path_mov1)\n",
    "new_all_movies_df.to_csv(cleaned_path_mov2)"
   ]
  }
 ],
 "metadata": {
  "language_info": {
   "codemirror_mode": {
    "name": "ipython",
    "version": 3
   },
   "file_extension": ".py",
   "mimetype": "text/x-python",
   "name": "python",
   "nbconvert_exporter": "python",
   "pygments_lexer": "ipython3",
   "version": "3.6.10-final"
  },
  "orig_nbformat": 2,
  "kernelspec": {
   "name": "python361064bitpythondatacondab08c2dbf1cf94a48aa20fff023e94a66",
   "display_name": "Python 3.6.10 64-bit ('PythonData': conda)"
  }
 },
 "nbformat": 4,
 "nbformat_minor": 2
}