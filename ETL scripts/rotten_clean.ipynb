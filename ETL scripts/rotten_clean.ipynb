{
 "cells": [
  {
   "cell_type": "code",
   "execution_count": 1,
   "metadata": {},
   "outputs": [],
   "source": [
    "import pandas as pd \n",
    "import os"
   ]
  },
  {
   "cell_type": "code",
   "execution_count": 2,
   "metadata": {},
   "outputs": [],
   "source": [
    "#Imput and output paths to load and save\n",
    "input_path = os.path.join('Resources','rotten_tomatoes_top_movies_2019-01-15.csv')\n",
    "cleaned_path = os.path.join('Resources','cleaned','rotten_tomatoes_clean.csv')"
   ]
  },
  {
   "cell_type": "code",
   "execution_count": 3,
   "metadata": {},
   "outputs": [],
   "source": [
    "rotten_df = pd.read_csv(input_path)"
   ]
  },
  {
   "cell_type": "code",
   "execution_count": 4,
   "metadata": {},
   "outputs": [],
   "source": [
    "rotten_df.head()\n",
    "#Rename Genres column\n",
    "rotten_df.rename(columns = {'Genres':'Genre'}, inplace = True)"
   ]
  },
  {
   "cell_type": "code",
   "execution_count": 5,
   "metadata": {},
   "outputs": [
    {
     "output_type": "execute_result",
     "data": {
      "text/plain": "Rank                 0\nTitle                0\nRatingTomatometer    0\nNo. of Reviews       0\nGenre                0\ndtype: int64"
     },
     "metadata": {},
     "execution_count": 5
    }
   ],
   "source": [
    "#Null values per column\n",
    "rotten_df.isnull().sum()"
   ]
  },
  {
   "cell_type": "code",
   "execution_count": 6,
   "metadata": {},
   "outputs": [],
   "source": [
    "#Separate the year from column Title without \"( )\"\n",
    "temp = rotten_df['Title'].apply(lambda x: x.split('('))\n",
    "split_year = temp.apply(lambda x: x[1])\n",
    "split_title = temp.apply(lambda x: x[0])\n",
    "remove_year_char = split_year.apply(lambda x: x.split(')'))\n",
    "year_clean = remove_year_char.apply(lambda x: x[0])\n",
    "\n",
    "#Asign resultant series to a column in rotten_df dataframe \n",
    "rotten_df['Year'] = year_clean\n",
    "#Set new Title without Year\n",
    "rotten_df['Title'] = split_title\n",
    "#Split Genres\n",
    "rotten_df[['Genre','Genre 2']] = rotten_df['Genre'].str.split('|',expand=True)"
   ]
  },
  {
   "cell_type": "code",
   "execution_count": 7,
   "metadata": {},
   "outputs": [],
   "source": [
    "#Reorder the columns\n",
    "rotten_df = rotten_df[['Rank','Title','Year','RatingTomatometer','No. of Reviews','Genre','Genre 2']]"
   ]
  },
  {
   "cell_type": "code",
   "execution_count": 8,
   "metadata": {},
   "outputs": [
    {
     "output_type": "execute_result",
     "data": {
      "text/plain": "   Rank                Title  Year  RatingTomatometer  No. of Reviews   Genre  \\\n0     1       Black Panther   2018                 97             444  action   \n1     2  Mad Max: Fury Road   2015                 97             394  action   \n2     3        Wonder Woman   2017                 93             410  action   \n3     4          Metropolis   1927                 99             118  action   \n4     5                Coco   2017                 97             308  action   \n\n     Genre 2  \n0  adventure  \n1  adventure  \n2  adventure  \n3  adventure  \n4  adventure  ",
      "text/html": "<div>\n<style scoped>\n    .dataframe tbody tr th:only-of-type {\n        vertical-align: middle;\n    }\n\n    .dataframe tbody tr th {\n        vertical-align: top;\n    }\n\n    .dataframe thead th {\n        text-align: right;\n    }\n</style>\n<table border=\"1\" class=\"dataframe\">\n  <thead>\n    <tr style=\"text-align: right;\">\n      <th></th>\n      <th>Rank</th>\n      <th>Title</th>\n      <th>Year</th>\n      <th>RatingTomatometer</th>\n      <th>No. of Reviews</th>\n      <th>Genre</th>\n      <th>Genre 2</th>\n    </tr>\n  </thead>\n  <tbody>\n    <tr>\n      <td>0</td>\n      <td>1</td>\n      <td>Black Panther</td>\n      <td>2018</td>\n      <td>97</td>\n      <td>444</td>\n      <td>action</td>\n      <td>adventure</td>\n    </tr>\n    <tr>\n      <td>1</td>\n      <td>2</td>\n      <td>Mad Max: Fury Road</td>\n      <td>2015</td>\n      <td>97</td>\n      <td>394</td>\n      <td>action</td>\n      <td>adventure</td>\n    </tr>\n    <tr>\n      <td>2</td>\n      <td>3</td>\n      <td>Wonder Woman</td>\n      <td>2017</td>\n      <td>93</td>\n      <td>410</td>\n      <td>action</td>\n      <td>adventure</td>\n    </tr>\n    <tr>\n      <td>3</td>\n      <td>4</td>\n      <td>Metropolis</td>\n      <td>1927</td>\n      <td>99</td>\n      <td>118</td>\n      <td>action</td>\n      <td>adventure</td>\n    </tr>\n    <tr>\n      <td>4</td>\n      <td>5</td>\n      <td>Coco</td>\n      <td>2017</td>\n      <td>97</td>\n      <td>308</td>\n      <td>action</td>\n      <td>adventure</td>\n    </tr>\n  </tbody>\n</table>\n</div>"
     },
     "metadata": {},
     "execution_count": 8
    }
   ],
   "source": [
    "rotten_df.head()"
   ]
  },
  {
   "cell_type": "code",
   "execution_count": 9,
   "metadata": {},
   "outputs": [],
   "source": [
    "#Save the cleaned file\n",
    "rotten_df.to_csv(cleaned_path)"
   ]
  }
 ],
 "metadata": {
  "language_info": {
   "codemirror_mode": {
    "name": "ipython",
    "version": 3
   },
   "file_extension": ".py",
   "mimetype": "text/x-python",
   "name": "python",
   "nbconvert_exporter": "python",
   "pygments_lexer": "ipython3",
   "version": "3.6.10-final"
  },
  "orig_nbformat": 2,
  "kernelspec": {
   "name": "python3",
   "display_name": "Python 3"
  }
 },
 "nbformat": 4,
 "nbformat_minor": 2
}