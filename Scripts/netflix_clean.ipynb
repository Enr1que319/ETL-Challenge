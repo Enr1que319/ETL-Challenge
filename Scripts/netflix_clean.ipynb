{
 "cells": [
  {
   "cell_type": "code",
   "execution_count": 1,
   "metadata": {},
   "outputs": [],
   "source": [
    "import pandas as pd \n",
    "import os\n",
    "import numpy as np"
   ]
  },
  {
   "cell_type": "code",
   "execution_count": 2,
   "metadata": {},
   "outputs": [],
   "source": [
    "#Imput and output paths to load and save#Imput and output paths to load and save\n",
    "input_path = os.path.join('..','..','Resources','netflix_titles.csv')\n",
    "cleaned_path = os.path.join('..','..','Resources','cleaned','netflix_clean.csv')"
   ]
  },
  {
   "cell_type": "code",
   "execution_count": 3,
   "metadata": {},
   "outputs": [],
   "source": [
    "netflix_df = pd.read_csv(input_path)"
   ]
  },
  {
   "cell_type": "code",
   "execution_count": 4,
   "metadata": {},
   "outputs": [
    {
     "output_type": "stream",
     "name": "stdout",
     "text": "4265\n4265\n"
    }
   ],
   "source": [
    "print(netflix_df['director'].count())\n",
    "netflix_df['director'].dropna(inplace=True)\n",
    "print(netflix_df['director'].count())"
   ]
  },
  {
   "cell_type": "code",
   "execution_count": 5,
   "metadata": {},
   "outputs": [
    {
     "output_type": "execute_result",
     "data": {
      "text/plain": "    show_id     type                                    title  \\\n0  81145628    Movie  Norm of the North: King Sized Adventure   \n1  80117401    Movie               Jandino: Whatever it Takes   \n2  70234439  TV Show                       Transformers Prime   \n3  80058654  TV Show         Transformers: Robots in Disguise   \n4  80125979    Movie                             #realityhigh   \n\n                   director  \\\n0  Richard Finn, Tim Maltby   \n1                       NaN   \n2                       NaN   \n3                       NaN   \n4          Fernando Lebrija   \n\n                                                cast  \\\n0  Alan Marriott, Andrew Toth, Brian Dobson, Cole...   \n1                                   Jandino Asporaat   \n2  Peter Cullen, Sumalee Montano, Frank Welker, J...   \n3  Will Friedle, Darren Criss, Constance Zimmer, ...   \n4  Nesta Cooper, Kate Walsh, John Michael Higgins...   \n\n                                    country         date_added  release_year  \\\n0  United States, India, South Korea, China  September 9, 2019          2019   \n1                            United Kingdom  September 9, 2016          2016   \n2                             United States  September 8, 2018          2013   \n3                             United States  September 8, 2018          2016   \n4                             United States  September 8, 2017          2017   \n\n     rating  duration                           listed_in  \\\n0     TV-PG    90 min  Children & Family Movies, Comedies   \n1     TV-MA    94 min                     Stand-Up Comedy   \n2  TV-Y7-FV  1 Season                            Kids' TV   \n3     TV-Y7  1 Season                            Kids' TV   \n4     TV-14    99 min                            Comedies   \n\n                                         description  \n0  Before planning an awesome wedding for his gra...  \n1  Jandino Asporaat riffs on the challenges of ra...  \n2  With the help of three human allies, the Autob...  \n3  When a prison ship crash unleashes hundreds of...  \n4  When nerdy high schooler Dani finally attracts...  ",
      "text/html": "<div>\n<style scoped>\n    .dataframe tbody tr th:only-of-type {\n        vertical-align: middle;\n    }\n\n    .dataframe tbody tr th {\n        vertical-align: top;\n    }\n\n    .dataframe thead th {\n        text-align: right;\n    }\n</style>\n<table border=\"1\" class=\"dataframe\">\n  <thead>\n    <tr style=\"text-align: right;\">\n      <th></th>\n      <th>show_id</th>\n      <th>type</th>\n      <th>title</th>\n      <th>director</th>\n      <th>cast</th>\n      <th>country</th>\n      <th>date_added</th>\n      <th>release_year</th>\n      <th>rating</th>\n      <th>duration</th>\n      <th>listed_in</th>\n      <th>description</th>\n    </tr>\n  </thead>\n  <tbody>\n    <tr>\n      <td>0</td>\n      <td>81145628</td>\n      <td>Movie</td>\n      <td>Norm of the North: King Sized Adventure</td>\n      <td>Richard Finn, Tim Maltby</td>\n      <td>Alan Marriott, Andrew Toth, Brian Dobson, Cole...</td>\n      <td>United States, India, South Korea, China</td>\n      <td>September 9, 2019</td>\n      <td>2019</td>\n      <td>TV-PG</td>\n      <td>90 min</td>\n      <td>Children &amp; Family Movies, Comedies</td>\n      <td>Before planning an awesome wedding for his gra...</td>\n    </tr>\n    <tr>\n      <td>1</td>\n      <td>80117401</td>\n      <td>Movie</td>\n      <td>Jandino: Whatever it Takes</td>\n      <td>NaN</td>\n      <td>Jandino Asporaat</td>\n      <td>United Kingdom</td>\n      <td>September 9, 2016</td>\n      <td>2016</td>\n      <td>TV-MA</td>\n      <td>94 min</td>\n      <td>Stand-Up Comedy</td>\n      <td>Jandino Asporaat riffs on the challenges of ra...</td>\n    </tr>\n    <tr>\n      <td>2</td>\n      <td>70234439</td>\n      <td>TV Show</td>\n      <td>Transformers Prime</td>\n      <td>NaN</td>\n      <td>Peter Cullen, Sumalee Montano, Frank Welker, J...</td>\n      <td>United States</td>\n      <td>September 8, 2018</td>\n      <td>2013</td>\n      <td>TV-Y7-FV</td>\n      <td>1 Season</td>\n      <td>Kids' TV</td>\n      <td>With the help of three human allies, the Autob...</td>\n    </tr>\n    <tr>\n      <td>3</td>\n      <td>80058654</td>\n      <td>TV Show</td>\n      <td>Transformers: Robots in Disguise</td>\n      <td>NaN</td>\n      <td>Will Friedle, Darren Criss, Constance Zimmer, ...</td>\n      <td>United States</td>\n      <td>September 8, 2018</td>\n      <td>2016</td>\n      <td>TV-Y7</td>\n      <td>1 Season</td>\n      <td>Kids' TV</td>\n      <td>When a prison ship crash unleashes hundreds of...</td>\n    </tr>\n    <tr>\n      <td>4</td>\n      <td>80125979</td>\n      <td>Movie</td>\n      <td>#realityhigh</td>\n      <td>Fernando Lebrija</td>\n      <td>Nesta Cooper, Kate Walsh, John Michael Higgins...</td>\n      <td>United States</td>\n      <td>September 8, 2017</td>\n      <td>2017</td>\n      <td>TV-14</td>\n      <td>99 min</td>\n      <td>Comedies</td>\n      <td>When nerdy high schooler Dani finally attracts...</td>\n    </tr>\n  </tbody>\n</table>\n</div>"
     },
     "metadata": {},
     "execution_count": 5
    }
   ],
   "source": [
    "netflix_df.head()"
   ]
  },
  {
   "cell_type": "code",
   "execution_count": 6,
   "metadata": {},
   "outputs": [],
   "source": [
    "#Remove Release year and description columns\n",
    "new_netflix_df = netflix_df[['show_id','type','title','director','release_year','rating','duration','listed_in']]"
   ]
  },
  {
   "cell_type": "code",
   "execution_count": 7,
   "metadata": {},
   "outputs": [],
   "source": [
    "#Remove the type \"TV Show\" from dataframe\n",
    "netflix_movies = new_netflix_df.loc[new_netflix_df['type'] == 'Movie']\n",
    "netflix_movies.rename(columns = {'listed_in':'Genre'}, inplace = True) "
   ]
  },
  {
   "cell_type": "code",
   "execution_count": 8,
   "metadata": {},
   "outputs": [
    {
     "output_type": "execute_result",
     "data": {
      "text/plain": "    show_id   type                                    title  \\\n0  81145628  Movie  Norm of the North: King Sized Adventure   \n1  80117401  Movie               Jandino: Whatever it Takes   \n4  80125979  Movie                             #realityhigh   \n6  70304989  Movie                                 Automata   \n7  80164077  Movie       Fabrizio Copano: Solo pienso en mi   \n\n                          director  release_year rating duration  \\\n0         Richard Finn, Tim Maltby          2019  TV-PG   90 min   \n1                              NaN          2016  TV-MA   94 min   \n4                 Fernando Lebrija          2017  TV-14   99 min   \n6                      Gabe Ibáñez          2014      R  110 min   \n7  Rodrigo Toro, Francisco Schultz          2017  TV-MA   60 min   \n\n                                               Genre  \n0                 Children & Family Movies, Comedies  \n1                                    Stand-Up Comedy  \n4                                           Comedies  \n6  International Movies, Sci-Fi & Fantasy, Thrillers  \n7                                    Stand-Up Comedy  ",
      "text/html": "<div>\n<style scoped>\n    .dataframe tbody tr th:only-of-type {\n        vertical-align: middle;\n    }\n\n    .dataframe tbody tr th {\n        vertical-align: top;\n    }\n\n    .dataframe thead th {\n        text-align: right;\n    }\n</style>\n<table border=\"1\" class=\"dataframe\">\n  <thead>\n    <tr style=\"text-align: right;\">\n      <th></th>\n      <th>show_id</th>\n      <th>type</th>\n      <th>title</th>\n      <th>director</th>\n      <th>release_year</th>\n      <th>rating</th>\n      <th>duration</th>\n      <th>Genre</th>\n    </tr>\n  </thead>\n  <tbody>\n    <tr>\n      <td>0</td>\n      <td>81145628</td>\n      <td>Movie</td>\n      <td>Norm of the North: King Sized Adventure</td>\n      <td>Richard Finn, Tim Maltby</td>\n      <td>2019</td>\n      <td>TV-PG</td>\n      <td>90 min</td>\n      <td>Children &amp; Family Movies, Comedies</td>\n    </tr>\n    <tr>\n      <td>1</td>\n      <td>80117401</td>\n      <td>Movie</td>\n      <td>Jandino: Whatever it Takes</td>\n      <td>NaN</td>\n      <td>2016</td>\n      <td>TV-MA</td>\n      <td>94 min</td>\n      <td>Stand-Up Comedy</td>\n    </tr>\n    <tr>\n      <td>4</td>\n      <td>80125979</td>\n      <td>Movie</td>\n      <td>#realityhigh</td>\n      <td>Fernando Lebrija</td>\n      <td>2017</td>\n      <td>TV-14</td>\n      <td>99 min</td>\n      <td>Comedies</td>\n    </tr>\n    <tr>\n      <td>6</td>\n      <td>70304989</td>\n      <td>Movie</td>\n      <td>Automata</td>\n      <td>Gabe Ibáñez</td>\n      <td>2014</td>\n      <td>R</td>\n      <td>110 min</td>\n      <td>International Movies, Sci-Fi &amp; Fantasy, Thrillers</td>\n    </tr>\n    <tr>\n      <td>7</td>\n      <td>80164077</td>\n      <td>Movie</td>\n      <td>Fabrizio Copano: Solo pienso en mi</td>\n      <td>Rodrigo Toro, Francisco Schultz</td>\n      <td>2017</td>\n      <td>TV-MA</td>\n      <td>60 min</td>\n      <td>Stand-Up Comedy</td>\n    </tr>\n  </tbody>\n</table>\n</div>"
     },
     "metadata": {},
     "execution_count": 8
    }
   ],
   "source": [
    "#cast : Actors involved in the movie / show\n",
    "#country : Country where the movie / show was produced\n",
    "netflix_movies.head()"
   ]
  },
  {
   "cell_type": "code",
   "execution_count": 9,
   "metadata": {},
   "outputs": [
    {
     "output_type": "execute_result",
     "data": {
      "text/plain": "    show_id   type                                    title  \\\n0  81145628  Movie  Norm of the North: King Sized Adventure   \n1  80117401  Movie               Jandino: Whatever it Takes   \n4  80125979  Movie                             #realityhigh   \n6  70304989  Movie                                 Automata   \n7  80164077  Movie       Fabrizio Copano: Solo pienso en mi   \n\n                          director  release_year rating duration  \\\n0         Richard Finn, Tim Maltby          2019  TV-PG   90 min   \n1                              NaN          2016  TV-MA   94 min   \n4                 Fernando Lebrija          2017  TV-14   99 min   \n6                      Gabe Ibáñez          2014      R  110 min   \n7  Rodrigo Toro, Francisco Schultz          2017  TV-MA   60 min   \n\n                      Genre            Genre 2     Genre 3  \n0  Children & Family Movies           Comedies        None  \n1           Stand-Up Comedy               None        None  \n4                  Comedies               None        None  \n6      International Movies   Sci-Fi & Fantasy   Thrillers  \n7           Stand-Up Comedy               None        None  ",
      "text/html": "<div>\n<style scoped>\n    .dataframe tbody tr th:only-of-type {\n        vertical-align: middle;\n    }\n\n    .dataframe tbody tr th {\n        vertical-align: top;\n    }\n\n    .dataframe thead th {\n        text-align: right;\n    }\n</style>\n<table border=\"1\" class=\"dataframe\">\n  <thead>\n    <tr style=\"text-align: right;\">\n      <th></th>\n      <th>show_id</th>\n      <th>type</th>\n      <th>title</th>\n      <th>director</th>\n      <th>release_year</th>\n      <th>rating</th>\n      <th>duration</th>\n      <th>Genre</th>\n      <th>Genre 2</th>\n      <th>Genre 3</th>\n    </tr>\n  </thead>\n  <tbody>\n    <tr>\n      <td>0</td>\n      <td>81145628</td>\n      <td>Movie</td>\n      <td>Norm of the North: King Sized Adventure</td>\n      <td>Richard Finn, Tim Maltby</td>\n      <td>2019</td>\n      <td>TV-PG</td>\n      <td>90 min</td>\n      <td>Children &amp; Family Movies</td>\n      <td>Comedies</td>\n      <td>None</td>\n    </tr>\n    <tr>\n      <td>1</td>\n      <td>80117401</td>\n      <td>Movie</td>\n      <td>Jandino: Whatever it Takes</td>\n      <td>NaN</td>\n      <td>2016</td>\n      <td>TV-MA</td>\n      <td>94 min</td>\n      <td>Stand-Up Comedy</td>\n      <td>None</td>\n      <td>None</td>\n    </tr>\n    <tr>\n      <td>4</td>\n      <td>80125979</td>\n      <td>Movie</td>\n      <td>#realityhigh</td>\n      <td>Fernando Lebrija</td>\n      <td>2017</td>\n      <td>TV-14</td>\n      <td>99 min</td>\n      <td>Comedies</td>\n      <td>None</td>\n      <td>None</td>\n    </tr>\n    <tr>\n      <td>6</td>\n      <td>70304989</td>\n      <td>Movie</td>\n      <td>Automata</td>\n      <td>Gabe Ibáñez</td>\n      <td>2014</td>\n      <td>R</td>\n      <td>110 min</td>\n      <td>International Movies</td>\n      <td>Sci-Fi &amp; Fantasy</td>\n      <td>Thrillers</td>\n    </tr>\n    <tr>\n      <td>7</td>\n      <td>80164077</td>\n      <td>Movie</td>\n      <td>Fabrizio Copano: Solo pienso en mi</td>\n      <td>Rodrigo Toro, Francisco Schultz</td>\n      <td>2017</td>\n      <td>TV-MA</td>\n      <td>60 min</td>\n      <td>Stand-Up Comedy</td>\n      <td>None</td>\n      <td>None</td>\n    </tr>\n  </tbody>\n</table>\n</div>"
     },
     "metadata": {},
     "execution_count": 9
    }
   ],
   "source": [
    "#Split the Genders in separated columns\n",
    "netflix_movies[['Genre','Genre 2','Genre 3']] = netflix_movies['Genre'].str.split(',',expand=True)\n",
    "netflix_movies.head()"
   ]
  },
  {
   "cell_type": "code",
   "execution_count": 10,
   "metadata": {},
   "outputs": [],
   "source": [
    "netflix_movies.to_csv(cleaned_path)"
   ]
  },
  {
   "cell_type": "code",
   "execution_count": 11,
   "metadata": {},
   "outputs": [
    {
     "output_type": "execute_result",
     "data": {
      "text/plain": "show_id            0\ntype               0\ntitle              0\ndirector        1969\ncast             570\ncountry          476\ndate_added        11\nrelease_year       0\nrating            10\nduration           0\nlisted_in          0\ndescription        0\ndtype: int64"
     },
     "metadata": {},
     "execution_count": 11
    }
   ],
   "source": [
    "#Null values per column#Null values per column\n",
    "netflix_df.isnull().sum()"
   ]
  }
 ],
 "metadata": {
  "language_info": {
   "codemirror_mode": {
    "name": "ipython",
    "version": 3
   },
   "file_extension": ".py",
   "mimetype": "text/x-python",
   "name": "python",
   "nbconvert_exporter": "python",
   "pygments_lexer": "ipython3",
   "version": "3.7.4-final"
  },
  "orig_nbformat": 2,
  "kernelspec": {
   "name": "python3",
   "display_name": "Python 3"
  }
 },
 "nbformat": 4,
 "nbformat_minor": 2
}