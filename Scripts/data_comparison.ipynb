{
 "cells": [
  {
   "cell_type": "code",
   "execution_count": 1,
   "metadata": {},
   "outputs": [],
   "source": [
    "import pandas as pd\n",
    "import numpy as np\n",
    "import os as os\n",
    "import requests\n",
    "import json\n",
    "from config import api_key"
   ]
  },
  {
   "cell_type": "code",
   "execution_count": 27,
   "metadata": {},
   "outputs": [],
   "source": [
    "#Data cleaned\n",
    "metadata = os.path.join('Resources','cleaned','movies_metadata__clean.csv')\n",
    "detailed = os.path.join('Resources','cleaned','Detail_Movies.csv')\n",
    "rotten = os.path.join('Resources','cleaned','rotten_tomatoes_clean.csv')\n",
    "netflix = os.path.join('Resources','cleaned','netflix_clean.csv')\n",
    "output = os.path.join('Resources','cleaned','IMBd movies 2.csv')\n",
    "\n",
    "#Data normal\n",
    "imbd = os.path.join('Resources','IMDb movies.csv')\n",
    "\n",
    "#URL fro omdbapi\n",
    "url = f'http://www.omdbapi.com/?apikey={api_key}&t='"
   ]
  },
  {
   "cell_type": "code",
   "execution_count": 3,
   "metadata": {},
   "outputs": [],
   "source": [
    "metadata_df = pd.read_csv(metadata)\n",
    "detailed_df = pd.read_csv(detailed)\n",
    "rotten_df = pd.read_csv(rotten)\n",
    "netflix_df = pd.read_csv(netflix)\n",
    "imbd_df = pd.read_csv(imbd)"
   ]
  },
  {
   "cell_type": "code",
   "execution_count": 4,
   "metadata": {},
   "outputs": [
    {
     "output_type": "display_data",
     "data": {
      "text/plain": "Index(['Unnamed: 0', 'imdb_id', 'original_title', 'original_language',\n       'popularity', 'runtime', 'vote_average', 'vote_count', 'release_date',\n       'revenue', 'genres', 'production_companies'],\n      dtype='object')"
     },
     "metadata": {}
    },
    {
     "output_type": "display_data",
     "data": {
      "text/plain": "Index(['Unnamed: 0', 'imdb_id', 'original_title', 'genres',\n       'original_language', 'popularity', 'production_companies', 'runtime',\n       'vote_average', 'vote_count', 'release_date', 'revenue'],\n      dtype='object')"
     },
     "metadata": {}
    }
   ],
   "source": [
    "#Comparing columns\n",
    "display(metadata_df.columns)\n",
    "display(detailed_df.columns)"
   ]
  },
  {
   "cell_type": "code",
   "execution_count": 5,
   "metadata": {},
   "outputs": [],
   "source": [
    "#Reordering columns in metadata_df\n",
    "metadata_df_new = metadata_df[['Unnamed: 0', 'imdb_id', 'original_title', 'genres',\n",
    "       'original_language', 'popularity', 'production_companies', 'runtime',\n",
    "       'vote_average', 'vote_count', 'release_date', 'revenue']]"
   ]
  },
  {
   "cell_type": "code",
   "execution_count": 6,
   "metadata": {},
   "outputs": [
    {
     "output_type": "display_data",
     "data": {
      "text/plain": "   Unnamed: 0    imdb_id    original_title     genres original_language  \\\n0           0  tt0114709         Toy Story  Animation                en   \n1           1  tt0113497           Jumanji  Adventure                en   \n2           2  tt0113228  Grumpier Old Men    Romance                en   \n\n  popularity     production_companies  runtime  vote_average  vote_count  \\\n0  21.946943  Pixar Animation Studios     81.0           7.7      5415.0   \n1  17.015539         TriStar Pictures    104.0           6.9      2413.0   \n2    11.7129             Warner Bros.    101.0           6.5        92.0   \n\n  release_date      revenue  \n0   1995-10-30  373554033.0  \n1   1995-12-15  262797249.0  \n2   1995-12-22          0.0  ",
      "text/html": "<div>\n<style scoped>\n    .dataframe tbody tr th:only-of-type {\n        vertical-align: middle;\n    }\n\n    .dataframe tbody tr th {\n        vertical-align: top;\n    }\n\n    .dataframe thead th {\n        text-align: right;\n    }\n</style>\n<table border=\"1\" class=\"dataframe\">\n  <thead>\n    <tr style=\"text-align: right;\">\n      <th></th>\n      <th>Unnamed: 0</th>\n      <th>imdb_id</th>\n      <th>original_title</th>\n      <th>genres</th>\n      <th>original_language</th>\n      <th>popularity</th>\n      <th>production_companies</th>\n      <th>runtime</th>\n      <th>vote_average</th>\n      <th>vote_count</th>\n      <th>release_date</th>\n      <th>revenue</th>\n    </tr>\n  </thead>\n  <tbody>\n    <tr>\n      <th>0</th>\n      <td>0</td>\n      <td>tt0114709</td>\n      <td>Toy Story</td>\n      <td>Animation</td>\n      <td>en</td>\n      <td>21.946943</td>\n      <td>Pixar Animation Studios</td>\n      <td>81.0</td>\n      <td>7.7</td>\n      <td>5415.0</td>\n      <td>1995-10-30</td>\n      <td>373554033.0</td>\n    </tr>\n    <tr>\n      <th>1</th>\n      <td>1</td>\n      <td>tt0113497</td>\n      <td>Jumanji</td>\n      <td>Adventure</td>\n      <td>en</td>\n      <td>17.015539</td>\n      <td>TriStar Pictures</td>\n      <td>104.0</td>\n      <td>6.9</td>\n      <td>2413.0</td>\n      <td>1995-12-15</td>\n      <td>262797249.0</td>\n    </tr>\n    <tr>\n      <th>2</th>\n      <td>2</td>\n      <td>tt0113228</td>\n      <td>Grumpier Old Men</td>\n      <td>Romance</td>\n      <td>en</td>\n      <td>11.7129</td>\n      <td>Warner Bros.</td>\n      <td>101.0</td>\n      <td>6.5</td>\n      <td>92.0</td>\n      <td>1995-12-22</td>\n      <td>0.0</td>\n    </tr>\n  </tbody>\n</table>\n</div>"
     },
     "metadata": {}
    },
    {
     "output_type": "display_data",
     "data": {
      "text/plain": "      Unnamed: 0    imdb_id original_title     genres original_language  \\\n4288        4288  tt0113497        Jumanji  Adventure                en   \n\n     popularity production_companies  runtime  vote_average  vote_count  \\\n4288   3.594827     TriStar Pictures    104.0           6.8        2032   \n\n     release_date    revenue  \n4288   15/12/1995  262797249  ",
      "text/html": "<div>\n<style scoped>\n    .dataframe tbody tr th:only-of-type {\n        vertical-align: middle;\n    }\n\n    .dataframe tbody tr th {\n        vertical-align: top;\n    }\n\n    .dataframe thead th {\n        text-align: right;\n    }\n</style>\n<table border=\"1\" class=\"dataframe\">\n  <thead>\n    <tr style=\"text-align: right;\">\n      <th></th>\n      <th>Unnamed: 0</th>\n      <th>imdb_id</th>\n      <th>original_title</th>\n      <th>genres</th>\n      <th>original_language</th>\n      <th>popularity</th>\n      <th>production_companies</th>\n      <th>runtime</th>\n      <th>vote_average</th>\n      <th>vote_count</th>\n      <th>release_date</th>\n      <th>revenue</th>\n    </tr>\n  </thead>\n  <tbody>\n    <tr>\n      <th>4288</th>\n      <td>4288</td>\n      <td>tt0113497</td>\n      <td>Jumanji</td>\n      <td>Adventure</td>\n      <td>en</td>\n      <td>3.594827</td>\n      <td>TriStar Pictures</td>\n      <td>104.0</td>\n      <td>6.8</td>\n      <td>2032</td>\n      <td>15/12/1995</td>\n      <td>262797249</td>\n    </tr>\n  </tbody>\n</table>\n</div>"
     },
     "metadata": {}
    }
   ],
   "source": [
    "#Comparing DataFrames\n",
    "display(metadata_df_new.head(3))\n",
    "display(detailed_df.loc[detailed_df['original_title'] == 'Jumanji'])"
   ]
  },
  {
   "cell_type": "code",
   "execution_count": 7,
   "metadata": {},
   "outputs": [
    {
     "output_type": "stream",
     "name": "stdout",
     "text": "123641 rows deleted\n"
    }
   ],
   "source": [
    "# Concatenate dataframes without duplicates\n",
    "meta_com_det = pd.concat([metadata_df_new,detailed_df]).drop_duplicates(subset='imdb_id').reset_index(drop=True)\n",
    "\n",
    "#Print the rows we deleted\n",
    "print(f'{(metadata_df_new.shape[0] + detailed_df.shape[0]) - meta_com_det.shape[0]} rows deleted')"
   ]
  },
  {
   "cell_type": "code",
   "execution_count": 8,
   "metadata": {},
   "outputs": [
    {
     "output_type": "execute_result",
     "data": {
      "text/plain": "   Unnamed: 0    imdb_id original_title     genres original_language  \\\n0           0  tt0114709      Toy Story  Animation                en   \n1           1  tt0113497        Jumanji  Adventure                en   \n\n  popularity     production_companies  runtime  vote_average  vote_count  \\\n0  21.946943  Pixar Animation Studios     81.0           7.7      5415.0   \n1  17.015539         TriStar Pictures    104.0           6.9      2413.0   \n\n  release_date      revenue  \n0   1995-10-30  373554033.0  \n1   1995-12-15  262797249.0  ",
      "text/html": "<div>\n<style scoped>\n    .dataframe tbody tr th:only-of-type {\n        vertical-align: middle;\n    }\n\n    .dataframe tbody tr th {\n        vertical-align: top;\n    }\n\n    .dataframe thead th {\n        text-align: right;\n    }\n</style>\n<table border=\"1\" class=\"dataframe\">\n  <thead>\n    <tr style=\"text-align: right;\">\n      <th></th>\n      <th>Unnamed: 0</th>\n      <th>imdb_id</th>\n      <th>original_title</th>\n      <th>genres</th>\n      <th>original_language</th>\n      <th>popularity</th>\n      <th>production_companies</th>\n      <th>runtime</th>\n      <th>vote_average</th>\n      <th>vote_count</th>\n      <th>release_date</th>\n      <th>revenue</th>\n    </tr>\n  </thead>\n  <tbody>\n    <tr>\n      <th>0</th>\n      <td>0</td>\n      <td>tt0114709</td>\n      <td>Toy Story</td>\n      <td>Animation</td>\n      <td>en</td>\n      <td>21.946943</td>\n      <td>Pixar Animation Studios</td>\n      <td>81.0</td>\n      <td>7.7</td>\n      <td>5415.0</td>\n      <td>1995-10-30</td>\n      <td>373554033.0</td>\n    </tr>\n    <tr>\n      <th>1</th>\n      <td>1</td>\n      <td>tt0113497</td>\n      <td>Jumanji</td>\n      <td>Adventure</td>\n      <td>en</td>\n      <td>17.015539</td>\n      <td>TriStar Pictures</td>\n      <td>104.0</td>\n      <td>6.9</td>\n      <td>2413.0</td>\n      <td>1995-12-15</td>\n      <td>262797249.0</td>\n    </tr>\n  </tbody>\n</table>\n</div>"
     },
     "metadata": {},
     "execution_count": 8
    }
   ],
   "source": [
    "meta_com_det.head(2)"
   ]
  },
  {
   "cell_type": "code",
   "execution_count": 9,
   "metadata": {},
   "outputs": [
    {
     "output_type": "display_data",
     "data": {
      "text/plain": "   Unnamed: 0   show_id   type                                    title  \\\n0           0  81145628  Movie  Norm of the North: King Sized Adventure   \n1           1  80117401  Movie               Jandino: Whatever it Takes   \n\n                   director  release_year rating duration  \\\n0  Richard Finn, Tim Maltby          2019  TV-PG   90 min   \n1                       NaN          2016  TV-MA   94 min   \n\n                      Genre    Genre 2 Genre 3  \n0  Children & Family Movies   Comedies     NaN  \n1           Stand-Up Comedy        NaN     NaN  ",
      "text/html": "<div>\n<style scoped>\n    .dataframe tbody tr th:only-of-type {\n        vertical-align: middle;\n    }\n\n    .dataframe tbody tr th {\n        vertical-align: top;\n    }\n\n    .dataframe thead th {\n        text-align: right;\n    }\n</style>\n<table border=\"1\" class=\"dataframe\">\n  <thead>\n    <tr style=\"text-align: right;\">\n      <th></th>\n      <th>Unnamed: 0</th>\n      <th>show_id</th>\n      <th>type</th>\n      <th>title</th>\n      <th>director</th>\n      <th>release_year</th>\n      <th>rating</th>\n      <th>duration</th>\n      <th>Genre</th>\n      <th>Genre 2</th>\n      <th>Genre 3</th>\n    </tr>\n  </thead>\n  <tbody>\n    <tr>\n      <th>0</th>\n      <td>0</td>\n      <td>81145628</td>\n      <td>Movie</td>\n      <td>Norm of the North: King Sized Adventure</td>\n      <td>Richard Finn, Tim Maltby</td>\n      <td>2019</td>\n      <td>TV-PG</td>\n      <td>90 min</td>\n      <td>Children &amp; Family Movies</td>\n      <td>Comedies</td>\n      <td>NaN</td>\n    </tr>\n    <tr>\n      <th>1</th>\n      <td>1</td>\n      <td>80117401</td>\n      <td>Movie</td>\n      <td>Jandino: Whatever it Takes</td>\n      <td>NaN</td>\n      <td>2016</td>\n      <td>TV-MA</td>\n      <td>94 min</td>\n      <td>Stand-Up Comedy</td>\n      <td>NaN</td>\n      <td>NaN</td>\n    </tr>\n  </tbody>\n</table>\n</div>"
     },
     "metadata": {}
    }
   ],
   "source": [
    "#Netflix VS meta_com_det\n",
    "display(netflix_df.head(2))\n"
   ]
  },
  {
   "cell_type": "code",
   "execution_count": 10,
   "metadata": {},
   "outputs": [
    {
     "output_type": "execute_result",
     "data": {
      "text/plain": "   Unnamed: 0                           original_title  \\\n0           0  Norm of the North: King Sized Adventure   \n1           1               Jandino: Whatever it Takes   \n\n                     genres  \n0  Children & Family Movies  \n1           Stand-Up Comedy  ",
      "text/html": "<div>\n<style scoped>\n    .dataframe tbody tr th:only-of-type {\n        vertical-align: middle;\n    }\n\n    .dataframe tbody tr th {\n        vertical-align: top;\n    }\n\n    .dataframe thead th {\n        text-align: right;\n    }\n</style>\n<table border=\"1\" class=\"dataframe\">\n  <thead>\n    <tr style=\"text-align: right;\">\n      <th></th>\n      <th>Unnamed: 0</th>\n      <th>original_title</th>\n      <th>genres</th>\n    </tr>\n  </thead>\n  <tbody>\n    <tr>\n      <th>0</th>\n      <td>0</td>\n      <td>Norm of the North: King Sized Adventure</td>\n      <td>Children &amp; Family Movies</td>\n    </tr>\n    <tr>\n      <th>1</th>\n      <td>1</td>\n      <td>Jandino: Whatever it Takes</td>\n      <td>Stand-Up Comedy</td>\n    </tr>\n  </tbody>\n</table>\n</div>"
     },
     "metadata": {},
     "execution_count": 10
    }
   ],
   "source": [
    "#Re-structure the Netflix table \n",
    "netflix_df.drop(['Genre 2','Genre 3','show_id','type','duration','rating','release_year','director'], axis=1, inplace=True)\n",
    "netflix_df.rename(columns={\"title\": \"original_title\", \"Genre\": \"genres\"}, inplace=True)\n",
    "dict_net = netflix_df.to_dict('records')\n",
    "netflix_df.head(2)"
   ]
  },
  {
   "cell_type": "code",
   "execution_count": 11,
   "metadata": {},
   "outputs": [
    {
     "output_type": "display_data",
     "data": {
      "text/plain": "   Unnamed: 0       original_title  genres\n0           0       Black Panther   action\n1           1  Mad Max: Fury Road   action",
      "text/html": "<div>\n<style scoped>\n    .dataframe tbody tr th:only-of-type {\n        vertical-align: middle;\n    }\n\n    .dataframe tbody tr th {\n        vertical-align: top;\n    }\n\n    .dataframe thead th {\n        text-align: right;\n    }\n</style>\n<table border=\"1\" class=\"dataframe\">\n  <thead>\n    <tr style=\"text-align: right;\">\n      <th></th>\n      <th>Unnamed: 0</th>\n      <th>original_title</th>\n      <th>genres</th>\n    </tr>\n  </thead>\n  <tbody>\n    <tr>\n      <th>0</th>\n      <td>0</td>\n      <td>Black Panther</td>\n      <td>action</td>\n    </tr>\n    <tr>\n      <th>1</th>\n      <td>1</td>\n      <td>Mad Max: Fury Road</td>\n      <td>action</td>\n    </tr>\n  </tbody>\n</table>\n</div>"
     },
     "metadata": {}
    }
   ],
   "source": [
    "#Preparing tables to merge\n",
    "rotten_df.drop(['Rank','RatingTomatometer','No. of Reviews','Genre 2','Year'], axis=1, inplace=True)\n",
    "rotten_df.rename(columns={\"Title\": \"original_title\", \"Genre\": \"genres\"}, inplace=True)\n",
    "display(rotten_df.head(2))"
   ]
  },
  {
   "cell_type": "code",
   "execution_count": 12,
   "metadata": {},
   "outputs": [],
   "source": [
    "#Merge Netflix and Rotten dataframes\n",
    "net_com_rott = pd.concat([netflix_df,rotten_df]).drop_duplicates(subset='original_title').reset_index(drop=True)"
   ]
  },
  {
   "cell_type": "code",
   "execution_count": 14,
   "metadata": {},
   "outputs": [
    {
     "output_type": "stream",
     "name": "stdout",
     "text": "Movies in imbd DataFrame: 1702\nMovies not in imbd DataFrame: 2563\n"
    }
   ],
   "source": [
    "#Check if Netflix have movies that imbd dataframe dont have\n",
    "dict_net_rott = net_com_rott.to_dict('records')\n",
    "\n",
    "num1 = 0\n",
    "num2 = 0\n",
    "\n",
    "for item in dict_net:\n",
    "    if len(meta_com_det.loc[meta_com_det['original_title'] == item['original_title']]) == 1:\n",
    "        num1 += 1\n",
    "    else:\n",
    "        num2 += 1\n",
    "\n",
    "\n",
    "print(f'Movies in imbd DataFrame: {num1}')\n",
    "print(f'Movies not in imbd DataFrame: {num2}')"
   ]
  },
  {
   "cell_type": "code",
   "execution_count": 23,
   "metadata": {},
   "outputs": [],
   "source": [
    "#Get data from imbd dataframe and ombd API\n",
    "\n",
    "for item in dict_net_rott:\n",
    "\n",
    "    imbd_item = meta_com_det.loc[meta_com_det['original_title'] == item['original_title']]\n",
    "\n",
    "    if len(imbd_item) == 1:\n",
    "        item.update({'imdb_id': imbd_item['imdb_id'].tolist()[0]})\n",
    "        item.update({'original_language': imbd_item['original_language'].tolist()[0]})\n",
    "        item.update({'popularity': imbd_item['popularity'].tolist()[0]})\n",
    "        item.update({'production_companies': imbd_item['production_companies'].tolist()[0]})\n",
    "        item.update({'runtime': imbd_item['runtime'].tolist()[0]})\n",
    "        item.update({'vote_average': imbd_item['vote_average'].tolist()[0]})\n",
    "        item.update({'vote_count': imbd_item['vote_count'].tolist()[0]})\n",
    "        item.update({'release_date': imbd_item['release_date'].tolist()[0]})\n",
    "        item.update({'revenue': imbd_item['revenue'].tolist()[0]})\n",
    "    \n",
    "    else:\n",
    "        try:\n",
    "            response = requests.get(url + item['original_title'])\n",
    "            data = response.json()\n",
    "            if data['Response'] == 'True':\n",
    "                item.update({'imdb_id': data['imdbID']})\n",
    "                item.update({'original_language': data['Language']})\n",
    "                item.update({'popularity': np.nan})\n",
    "                item.update({'production_companies': np.nan})\n",
    "                item.update({'runtime': data['Runtime']})\n",
    "                item.update({'vote_average': data['imdbRating']})\n",
    "                item.update({'vote_count': data['imdbVotes']})\n",
    "                item.update({'release_date': data['Released']})\n",
    "                item.update({'revenue': np.nan})\n",
    "            else:\n",
    "                continue\n",
    "        except:\n",
    "            continue"
   ]
  },
  {
   "cell_type": "code",
   "execution_count": 24,
   "metadata": {},
   "outputs": [
    {
     "output_type": "execute_result",
     "data": {
      "text/plain": "(250869, 12)"
     },
     "metadata": {},
     "execution_count": 24
    }
   ],
   "source": [
    "#Converting dict to dataframe\n",
    "net_rott_df = pd.DataFrame(dict_net_rott)\n",
    "\n",
    "#Merge net_com_rott with meta_com_det\n",
    "all_merge = pd.concat([meta_com_det,net_com_rott]).drop_duplicates(subset='imdb_id').reset_index(drop=True)\n",
    "all_merge.shape"
   ]
  },
  {
   "cell_type": "code",
   "execution_count": 25,
   "metadata": {},
   "outputs": [
    {
     "output_type": "execute_result",
     "data": {
      "text/plain": "   Unnamed: 0    imdb_id original_title     genres original_language  \\\n0           0  tt0114709      Toy Story  Animation                en   \n1           1  tt0113497        Jumanji  Adventure                en   \n\n  popularity     production_companies  runtime  vote_average  vote_count  \\\n0  21.946943  Pixar Animation Studios     81.0           7.7      5415.0   \n1  17.015539         TriStar Pictures    104.0           6.9      2413.0   \n\n  release_date      revenue  \n0   1995-10-30  373554033.0  \n1   1995-12-15  262797249.0  ",
      "text/html": "<div>\n<style scoped>\n    .dataframe tbody tr th:only-of-type {\n        vertical-align: middle;\n    }\n\n    .dataframe tbody tr th {\n        vertical-align: top;\n    }\n\n    .dataframe thead th {\n        text-align: right;\n    }\n</style>\n<table border=\"1\" class=\"dataframe\">\n  <thead>\n    <tr style=\"text-align: right;\">\n      <th></th>\n      <th>Unnamed: 0</th>\n      <th>imdb_id</th>\n      <th>original_title</th>\n      <th>genres</th>\n      <th>original_language</th>\n      <th>popularity</th>\n      <th>production_companies</th>\n      <th>runtime</th>\n      <th>vote_average</th>\n      <th>vote_count</th>\n      <th>release_date</th>\n      <th>revenue</th>\n    </tr>\n  </thead>\n  <tbody>\n    <tr>\n      <th>0</th>\n      <td>0</td>\n      <td>tt0114709</td>\n      <td>Toy Story</td>\n      <td>Animation</td>\n      <td>en</td>\n      <td>21.946943</td>\n      <td>Pixar Animation Studios</td>\n      <td>81.0</td>\n      <td>7.7</td>\n      <td>5415.0</td>\n      <td>1995-10-30</td>\n      <td>373554033.0</td>\n    </tr>\n    <tr>\n      <th>1</th>\n      <td>1</td>\n      <td>tt0113497</td>\n      <td>Jumanji</td>\n      <td>Adventure</td>\n      <td>en</td>\n      <td>17.015539</td>\n      <td>TriStar Pictures</td>\n      <td>104.0</td>\n      <td>6.9</td>\n      <td>2413.0</td>\n      <td>1995-12-15</td>\n      <td>262797249.0</td>\n    </tr>\n  </tbody>\n</table>\n</div>"
     },
     "metadata": {},
     "execution_count": 25
    }
   ],
   "source": [
    "all_merge.head(2)"
   ]
  },
  {
   "cell_type": "code",
   "execution_count": 28,
   "metadata": {},
   "outputs": [],
   "source": [
    "all_merge.to_csv(output)"
   ]
  },
  {
   "cell_type": "code",
   "execution_count": null,
   "metadata": {},
   "outputs": [],
   "source": []
  }
 ],
 "metadata": {
  "language_info": {
   "codemirror_mode": {
    "name": "ipython",
    "version": 3
   },
   "file_extension": ".py",
   "mimetype": "text/x-python",
   "name": "python",
   "nbconvert_exporter": "python",
   "pygments_lexer": "ipython3",
   "version": "3.6.10-final"
  },
  "orig_nbformat": 2,
  "kernelspec": {
   "name": "python361064bitpythondatacondab08c2dbf1cf94a48aa20fff023e94a66",
   "display_name": "Python 3.6.10 64-bit ('PythonData': conda)"
  }
 },
 "nbformat": 4,
 "nbformat_minor": 2
}